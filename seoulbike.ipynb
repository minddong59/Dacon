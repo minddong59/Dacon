{
  "nbformat": 4,
  "nbformat_minor": 0,
  "metadata": {
    "colab": {
      "name": "seoulbike.ipynb",
      "provenance": [],
      "collapsed_sections": [],
      "mount_file_id": "1LljBO2oiAMZs5DY88LpvO23_EGs_2hmU",
      "authorship_tag": "ABX9TyNFDjXuV25mBQYhJZVgQiYi",
      "include_colab_link": true
    },
    "kernelspec": {
      "name": "python3",
      "display_name": "Python 3"
    },
    "language_info": {
      "name": "python"
    }
  },
  "cells": [
    {
      "cell_type": "markdown",
      "metadata": {
        "id": "view-in-github",
        "colab_type": "text"
      },
      "source": [
        "<a href=\"https://colab.research.google.com/github/minddong59/Dacon/blob/main/seoulbike.ipynb\" target=\"_parent\"><img src=\"https://colab.research.google.com/assets/colab-badge.svg\" alt=\"Open In Colab\"/></a>"
      ]
    },
    {
      "cell_type": "markdown",
      "metadata": {
        "id": "XPG6STgCX3ke"
      },
      "source": [
        "## 따릉이 데이터를 활용한 데이터 분석"
      ]
    },
    {
      "cell_type": "markdown",
      "metadata": {
        "id": "1kXTMQZFXz1d"
      },
      "source": [
        "각 날짜의 1시간 전의 기상상황을 가지고 1시간 후의 따릉이 대여수를 예측해보세요."
      ]
    },
    {
      "cell_type": "code",
      "metadata": {
        "id": "b4fV9hQfX6YR"
      },
      "source": [
        "import pandas as pd #판다스 패키지 불러오기\n",
        "from sklearn.tree import DecisionTreeRegressor\n",
        "from sklearn.ensemble import RandomForestRegressor #랜덤 포레스트 불러오기"
      ],
      "execution_count": 1,
      "outputs": []
    },
    {
      "cell_type": "code",
      "metadata": {
        "colab": {
          "base_uri": "https://localhost:8080/"
        },
        "id": "Ly2_oR1XX-yg",
        "outputId": "847edfde-c2e2-41ee-fa1a-923b67d7b97a"
      },
      "source": [
        "from google.colab import drive\n",
        "drive.mount('/content/drive')"
      ],
      "execution_count": 2,
      "outputs": [
        {
          "output_type": "stream",
          "name": "stdout",
          "text": [
            "Drive already mounted at /content/drive; to attempt to forcibly remount, call drive.mount(\"/content/drive\", force_remount=True).\n"
          ]
        }
      ]
    },
    {
      "cell_type": "code",
      "metadata": {
        "id": "qULxxxPsZlin"
      },
      "source": [
        "train= pd.read_csv('/content/drive/MyDrive/Colab Notebooks/따릉이 예측하기/train.csv')\n",
        "test=pd.read_csv('/content/drive/MyDrive/Colab Notebooks/따릉이 예측하기/test.csv')\n",
        "submission=pd.read_csv('/content/drive/MyDrive/Colab Notebooks/따릉이 예측하기/submission.csv')"
      ],
      "execution_count": 3,
      "outputs": []
    },
    {
      "cell_type": "code",
      "metadata": {
        "colab": {
          "base_uri": "https://localhost:8080/",
          "height": 224
        },
        "id": "0Pdogl7haexv",
        "outputId": "454fd807-ba42-49af-c5e9-ffe5ec65adca"
      },
      "source": [
        "train.head()"
      ],
      "execution_count": 4,
      "outputs": [
        {
          "output_type": "execute_result",
          "data": {
            "text/html": [
              "<div>\n",
              "<style scoped>\n",
              "    .dataframe tbody tr th:only-of-type {\n",
              "        vertical-align: middle;\n",
              "    }\n",
              "\n",
              "    .dataframe tbody tr th {\n",
              "        vertical-align: top;\n",
              "    }\n",
              "\n",
              "    .dataframe thead th {\n",
              "        text-align: right;\n",
              "    }\n",
              "</style>\n",
              "<table border=\"1\" class=\"dataframe\">\n",
              "  <thead>\n",
              "    <tr style=\"text-align: right;\">\n",
              "      <th></th>\n",
              "      <th>id</th>\n",
              "      <th>hour</th>\n",
              "      <th>hour_bef_temperature</th>\n",
              "      <th>hour_bef_precipitation</th>\n",
              "      <th>hour_bef_windspeed</th>\n",
              "      <th>hour_bef_humidity</th>\n",
              "      <th>hour_bef_visibility</th>\n",
              "      <th>hour_bef_ozone</th>\n",
              "      <th>hour_bef_pm10</th>\n",
              "      <th>hour_bef_pm2.5</th>\n",
              "      <th>count</th>\n",
              "    </tr>\n",
              "  </thead>\n",
              "  <tbody>\n",
              "    <tr>\n",
              "      <th>0</th>\n",
              "      <td>3</td>\n",
              "      <td>20</td>\n",
              "      <td>16.3</td>\n",
              "      <td>1.0</td>\n",
              "      <td>1.5</td>\n",
              "      <td>89.0</td>\n",
              "      <td>576.0</td>\n",
              "      <td>0.027</td>\n",
              "      <td>76.0</td>\n",
              "      <td>33.0</td>\n",
              "      <td>49.0</td>\n",
              "    </tr>\n",
              "    <tr>\n",
              "      <th>1</th>\n",
              "      <td>6</td>\n",
              "      <td>13</td>\n",
              "      <td>20.1</td>\n",
              "      <td>0.0</td>\n",
              "      <td>1.4</td>\n",
              "      <td>48.0</td>\n",
              "      <td>916.0</td>\n",
              "      <td>0.042</td>\n",
              "      <td>73.0</td>\n",
              "      <td>40.0</td>\n",
              "      <td>159.0</td>\n",
              "    </tr>\n",
              "    <tr>\n",
              "      <th>2</th>\n",
              "      <td>7</td>\n",
              "      <td>6</td>\n",
              "      <td>13.9</td>\n",
              "      <td>0.0</td>\n",
              "      <td>0.7</td>\n",
              "      <td>79.0</td>\n",
              "      <td>1382.0</td>\n",
              "      <td>0.033</td>\n",
              "      <td>32.0</td>\n",
              "      <td>19.0</td>\n",
              "      <td>26.0</td>\n",
              "    </tr>\n",
              "    <tr>\n",
              "      <th>3</th>\n",
              "      <td>8</td>\n",
              "      <td>23</td>\n",
              "      <td>8.1</td>\n",
              "      <td>0.0</td>\n",
              "      <td>2.7</td>\n",
              "      <td>54.0</td>\n",
              "      <td>946.0</td>\n",
              "      <td>0.040</td>\n",
              "      <td>75.0</td>\n",
              "      <td>64.0</td>\n",
              "      <td>57.0</td>\n",
              "    </tr>\n",
              "    <tr>\n",
              "      <th>4</th>\n",
              "      <td>9</td>\n",
              "      <td>18</td>\n",
              "      <td>29.5</td>\n",
              "      <td>0.0</td>\n",
              "      <td>4.8</td>\n",
              "      <td>7.0</td>\n",
              "      <td>2000.0</td>\n",
              "      <td>0.057</td>\n",
              "      <td>27.0</td>\n",
              "      <td>11.0</td>\n",
              "      <td>431.0</td>\n",
              "    </tr>\n",
              "  </tbody>\n",
              "</table>\n",
              "</div>"
            ],
            "text/plain": [
              "   id  hour  hour_bef_temperature  ...  hour_bef_pm10  hour_bef_pm2.5  count\n",
              "0   3    20                  16.3  ...           76.0            33.0   49.0\n",
              "1   6    13                  20.1  ...           73.0            40.0  159.0\n",
              "2   7     6                  13.9  ...           32.0            19.0   26.0\n",
              "3   8    23                   8.1  ...           75.0            64.0   57.0\n",
              "4   9    18                  29.5  ...           27.0            11.0  431.0\n",
              "\n",
              "[5 rows x 11 columns]"
            ]
          },
          "metadata": {},
          "execution_count": 4
        }
      ]
    },
    {
      "cell_type": "markdown",
      "metadata": {
        "id": "MqQ4r-0Faj62"
      },
      "source": [
        "+ id : 날짜와 시간별 id\n",
        "+ hour_bef_temperature : 1시간 전 기온\n",
        "+ hour_bef_precipitation : 1시간 전 비 정보, 비가 오지 않았으면 0, 비가 오면 1\n",
        "+ hour_bef_windspeed : 1시간 전 풍속(평균)\n",
        "+ hour_bef_humidity : 1시간 전 습도\n",
        "+ hour_bef_visibility : 1시간 전 시정(視程), 시계(視界)(특정 기상 상태에 따른 가시성을 의미)\n",
        "+ hour_bef_ozone : 1시간 전 오존\n",
        "+ hour_bef_pm10 : 1시간 전 미세먼지(머리카락 굵기의 1/5에서 1/7 크기의 미세먼지)\n",
        "+ hour_bef_pm2.5 : 1시간 전 미세먼지(머리카락 굵기의 1/20에서 1/30 크기의 미세먼지)\n",
        "+ count : 시간에 따른 따릉이 대여 수 "
      ]
    },
    {
      "cell_type": "code",
      "metadata": {
        "colab": {
          "base_uri": "https://localhost:8080/",
          "height": 224
        },
        "id": "_6E-F8tIaoK3",
        "outputId": "c0869793-e6e8-4c26-85d8-192b4a3f058e"
      },
      "source": [
        "test.head()"
      ],
      "execution_count": 5,
      "outputs": [
        {
          "output_type": "execute_result",
          "data": {
            "text/html": [
              "<div>\n",
              "<style scoped>\n",
              "    .dataframe tbody tr th:only-of-type {\n",
              "        vertical-align: middle;\n",
              "    }\n",
              "\n",
              "    .dataframe tbody tr th {\n",
              "        vertical-align: top;\n",
              "    }\n",
              "\n",
              "    .dataframe thead th {\n",
              "        text-align: right;\n",
              "    }\n",
              "</style>\n",
              "<table border=\"1\" class=\"dataframe\">\n",
              "  <thead>\n",
              "    <tr style=\"text-align: right;\">\n",
              "      <th></th>\n",
              "      <th>id</th>\n",
              "      <th>hour</th>\n",
              "      <th>hour_bef_temperature</th>\n",
              "      <th>hour_bef_precipitation</th>\n",
              "      <th>hour_bef_windspeed</th>\n",
              "      <th>hour_bef_humidity</th>\n",
              "      <th>hour_bef_visibility</th>\n",
              "      <th>hour_bef_ozone</th>\n",
              "      <th>hour_bef_pm10</th>\n",
              "      <th>hour_bef_pm2.5</th>\n",
              "    </tr>\n",
              "  </thead>\n",
              "  <tbody>\n",
              "    <tr>\n",
              "      <th>0</th>\n",
              "      <td>0</td>\n",
              "      <td>7</td>\n",
              "      <td>20.7</td>\n",
              "      <td>0.0</td>\n",
              "      <td>1.3</td>\n",
              "      <td>62.0</td>\n",
              "      <td>954.0</td>\n",
              "      <td>0.041</td>\n",
              "      <td>44.0</td>\n",
              "      <td>27.0</td>\n",
              "    </tr>\n",
              "    <tr>\n",
              "      <th>1</th>\n",
              "      <td>1</td>\n",
              "      <td>17</td>\n",
              "      <td>30.0</td>\n",
              "      <td>0.0</td>\n",
              "      <td>5.4</td>\n",
              "      <td>33.0</td>\n",
              "      <td>1590.0</td>\n",
              "      <td>0.061</td>\n",
              "      <td>49.0</td>\n",
              "      <td>36.0</td>\n",
              "    </tr>\n",
              "    <tr>\n",
              "      <th>2</th>\n",
              "      <td>2</td>\n",
              "      <td>13</td>\n",
              "      <td>19.0</td>\n",
              "      <td>1.0</td>\n",
              "      <td>2.1</td>\n",
              "      <td>95.0</td>\n",
              "      <td>193.0</td>\n",
              "      <td>0.020</td>\n",
              "      <td>36.0</td>\n",
              "      <td>28.0</td>\n",
              "    </tr>\n",
              "    <tr>\n",
              "      <th>3</th>\n",
              "      <td>4</td>\n",
              "      <td>6</td>\n",
              "      <td>22.5</td>\n",
              "      <td>0.0</td>\n",
              "      <td>2.5</td>\n",
              "      <td>60.0</td>\n",
              "      <td>1185.0</td>\n",
              "      <td>0.027</td>\n",
              "      <td>52.0</td>\n",
              "      <td>38.0</td>\n",
              "    </tr>\n",
              "    <tr>\n",
              "      <th>4</th>\n",
              "      <td>5</td>\n",
              "      <td>22</td>\n",
              "      <td>14.6</td>\n",
              "      <td>1.0</td>\n",
              "      <td>3.4</td>\n",
              "      <td>93.0</td>\n",
              "      <td>218.0</td>\n",
              "      <td>0.041</td>\n",
              "      <td>18.0</td>\n",
              "      <td>15.0</td>\n",
              "    </tr>\n",
              "  </tbody>\n",
              "</table>\n",
              "</div>"
            ],
            "text/plain": [
              "   id  hour  ...  hour_bef_pm10  hour_bef_pm2.5\n",
              "0   0     7  ...           44.0            27.0\n",
              "1   1    17  ...           49.0            36.0\n",
              "2   2    13  ...           36.0            28.0\n",
              "3   4     6  ...           52.0            38.0\n",
              "4   5    22  ...           18.0            15.0\n",
              "\n",
              "[5 rows x 10 columns]"
            ]
          },
          "metadata": {},
          "execution_count": 5
        }
      ]
    },
    {
      "cell_type": "code",
      "metadata": {
        "colab": {
          "base_uri": "https://localhost:8080/"
        },
        "id": "xWEgQQC7bXfk",
        "outputId": "ac9b3569-d228-4702-8bc7-17a8671273bd"
      },
      "source": [
        "train.info()"
      ],
      "execution_count": 6,
      "outputs": [
        {
          "output_type": "stream",
          "name": "stdout",
          "text": [
            "<class 'pandas.core.frame.DataFrame'>\n",
            "RangeIndex: 1459 entries, 0 to 1458\n",
            "Data columns (total 11 columns):\n",
            " #   Column                  Non-Null Count  Dtype  \n",
            "---  ------                  --------------  -----  \n",
            " 0   id                      1459 non-null   int64  \n",
            " 1   hour                    1459 non-null   int64  \n",
            " 2   hour_bef_temperature    1457 non-null   float64\n",
            " 3   hour_bef_precipitation  1457 non-null   float64\n",
            " 4   hour_bef_windspeed      1450 non-null   float64\n",
            " 5   hour_bef_humidity       1457 non-null   float64\n",
            " 6   hour_bef_visibility     1457 non-null   float64\n",
            " 7   hour_bef_ozone          1383 non-null   float64\n",
            " 8   hour_bef_pm10           1369 non-null   float64\n",
            " 9   hour_bef_pm2.5          1342 non-null   float64\n",
            " 10  count                   1459 non-null   float64\n",
            "dtypes: float64(9), int64(2)\n",
            "memory usage: 125.5 KB\n"
          ]
        }
      ]
    },
    {
      "cell_type": "code",
      "metadata": {
        "colab": {
          "base_uri": "https://localhost:8080/"
        },
        "id": "pNtQtAdDbZk6",
        "outputId": "020415f6-6310-45c6-8d71-08566e0784ed"
      },
      "source": [
        "test.info()"
      ],
      "execution_count": 7,
      "outputs": [
        {
          "output_type": "stream",
          "name": "stdout",
          "text": [
            "<class 'pandas.core.frame.DataFrame'>\n",
            "RangeIndex: 715 entries, 0 to 714\n",
            "Data columns (total 10 columns):\n",
            " #   Column                  Non-Null Count  Dtype  \n",
            "---  ------                  --------------  -----  \n",
            " 0   id                      715 non-null    int64  \n",
            " 1   hour                    715 non-null    int64  \n",
            " 2   hour_bef_temperature    714 non-null    float64\n",
            " 3   hour_bef_precipitation  714 non-null    float64\n",
            " 4   hour_bef_windspeed      714 non-null    float64\n",
            " 5   hour_bef_humidity       714 non-null    float64\n",
            " 6   hour_bef_visibility     714 non-null    float64\n",
            " 7   hour_bef_ozone          680 non-null    float64\n",
            " 8   hour_bef_pm10           678 non-null    float64\n",
            " 9   hour_bef_pm2.5          679 non-null    float64\n",
            "dtypes: float64(8), int64(2)\n",
            "memory usage: 56.0 KB\n"
          ]
        }
      ]
    },
    {
      "cell_type": "code",
      "metadata": {
        "colab": {
          "base_uri": "https://localhost:8080/",
          "height": 317
        },
        "id": "kCaHxB-Eb0UR",
        "outputId": "15394cd1-005f-4baa-8008-f2a5c10e35e2"
      },
      "source": [
        "train.describe()"
      ],
      "execution_count": 8,
      "outputs": [
        {
          "output_type": "execute_result",
          "data": {
            "text/html": [
              "<div>\n",
              "<style scoped>\n",
              "    .dataframe tbody tr th:only-of-type {\n",
              "        vertical-align: middle;\n",
              "    }\n",
              "\n",
              "    .dataframe tbody tr th {\n",
              "        vertical-align: top;\n",
              "    }\n",
              "\n",
              "    .dataframe thead th {\n",
              "        text-align: right;\n",
              "    }\n",
              "</style>\n",
              "<table border=\"1\" class=\"dataframe\">\n",
              "  <thead>\n",
              "    <tr style=\"text-align: right;\">\n",
              "      <th></th>\n",
              "      <th>id</th>\n",
              "      <th>hour</th>\n",
              "      <th>hour_bef_temperature</th>\n",
              "      <th>hour_bef_precipitation</th>\n",
              "      <th>hour_bef_windspeed</th>\n",
              "      <th>hour_bef_humidity</th>\n",
              "      <th>hour_bef_visibility</th>\n",
              "      <th>hour_bef_ozone</th>\n",
              "      <th>hour_bef_pm10</th>\n",
              "      <th>hour_bef_pm2.5</th>\n",
              "      <th>count</th>\n",
              "    </tr>\n",
              "  </thead>\n",
              "  <tbody>\n",
              "    <tr>\n",
              "      <th>count</th>\n",
              "      <td>1459.000000</td>\n",
              "      <td>1459.000000</td>\n",
              "      <td>1457.000000</td>\n",
              "      <td>1457.000000</td>\n",
              "      <td>1450.000000</td>\n",
              "      <td>1457.000000</td>\n",
              "      <td>1457.000000</td>\n",
              "      <td>1383.000000</td>\n",
              "      <td>1369.000000</td>\n",
              "      <td>1342.000000</td>\n",
              "      <td>1459.000000</td>\n",
              "    </tr>\n",
              "    <tr>\n",
              "      <th>mean</th>\n",
              "      <td>1105.914325</td>\n",
              "      <td>11.493489</td>\n",
              "      <td>16.717433</td>\n",
              "      <td>0.031572</td>\n",
              "      <td>2.479034</td>\n",
              "      <td>52.231297</td>\n",
              "      <td>1405.216884</td>\n",
              "      <td>0.039149</td>\n",
              "      <td>57.168736</td>\n",
              "      <td>30.327124</td>\n",
              "      <td>108.563400</td>\n",
              "    </tr>\n",
              "    <tr>\n",
              "      <th>std</th>\n",
              "      <td>631.338681</td>\n",
              "      <td>6.922790</td>\n",
              "      <td>5.239150</td>\n",
              "      <td>0.174917</td>\n",
              "      <td>1.378265</td>\n",
              "      <td>20.370387</td>\n",
              "      <td>583.131708</td>\n",
              "      <td>0.019509</td>\n",
              "      <td>31.771019</td>\n",
              "      <td>14.713252</td>\n",
              "      <td>82.631733</td>\n",
              "    </tr>\n",
              "    <tr>\n",
              "      <th>min</th>\n",
              "      <td>3.000000</td>\n",
              "      <td>0.000000</td>\n",
              "      <td>3.100000</td>\n",
              "      <td>0.000000</td>\n",
              "      <td>0.000000</td>\n",
              "      <td>7.000000</td>\n",
              "      <td>78.000000</td>\n",
              "      <td>0.003000</td>\n",
              "      <td>9.000000</td>\n",
              "      <td>8.000000</td>\n",
              "      <td>1.000000</td>\n",
              "    </tr>\n",
              "    <tr>\n",
              "      <th>25%</th>\n",
              "      <td>555.500000</td>\n",
              "      <td>5.500000</td>\n",
              "      <td>12.800000</td>\n",
              "      <td>0.000000</td>\n",
              "      <td>1.400000</td>\n",
              "      <td>36.000000</td>\n",
              "      <td>879.000000</td>\n",
              "      <td>0.025500</td>\n",
              "      <td>36.000000</td>\n",
              "      <td>20.000000</td>\n",
              "      <td>37.000000</td>\n",
              "    </tr>\n",
              "    <tr>\n",
              "      <th>50%</th>\n",
              "      <td>1115.000000</td>\n",
              "      <td>11.000000</td>\n",
              "      <td>16.600000</td>\n",
              "      <td>0.000000</td>\n",
              "      <td>2.300000</td>\n",
              "      <td>51.000000</td>\n",
              "      <td>1577.000000</td>\n",
              "      <td>0.039000</td>\n",
              "      <td>51.000000</td>\n",
              "      <td>26.000000</td>\n",
              "      <td>96.000000</td>\n",
              "    </tr>\n",
              "    <tr>\n",
              "      <th>75%</th>\n",
              "      <td>1651.000000</td>\n",
              "      <td>17.500000</td>\n",
              "      <td>20.100000</td>\n",
              "      <td>0.000000</td>\n",
              "      <td>3.400000</td>\n",
              "      <td>69.000000</td>\n",
              "      <td>1994.000000</td>\n",
              "      <td>0.052000</td>\n",
              "      <td>69.000000</td>\n",
              "      <td>37.000000</td>\n",
              "      <td>150.000000</td>\n",
              "    </tr>\n",
              "    <tr>\n",
              "      <th>max</th>\n",
              "      <td>2179.000000</td>\n",
              "      <td>23.000000</td>\n",
              "      <td>30.000000</td>\n",
              "      <td>1.000000</td>\n",
              "      <td>8.000000</td>\n",
              "      <td>99.000000</td>\n",
              "      <td>2000.000000</td>\n",
              "      <td>0.125000</td>\n",
              "      <td>269.000000</td>\n",
              "      <td>90.000000</td>\n",
              "      <td>431.000000</td>\n",
              "    </tr>\n",
              "  </tbody>\n",
              "</table>\n",
              "</div>"
            ],
            "text/plain": [
              "                id         hour  ...  hour_bef_pm2.5        count\n",
              "count  1459.000000  1459.000000  ...     1342.000000  1459.000000\n",
              "mean   1105.914325    11.493489  ...       30.327124   108.563400\n",
              "std     631.338681     6.922790  ...       14.713252    82.631733\n",
              "min       3.000000     0.000000  ...        8.000000     1.000000\n",
              "25%     555.500000     5.500000  ...       20.000000    37.000000\n",
              "50%    1115.000000    11.000000  ...       26.000000    96.000000\n",
              "75%    1651.000000    17.500000  ...       37.000000   150.000000\n",
              "max    2179.000000    23.000000  ...       90.000000   431.000000\n",
              "\n",
              "[8 rows x 11 columns]"
            ]
          },
          "metadata": {},
          "execution_count": 8
        }
      ]
    },
    {
      "cell_type": "code",
      "metadata": {
        "colab": {
          "base_uri": "https://localhost:8080/",
          "height": 317
        },
        "id": "WVpjnAz-cGxY",
        "outputId": "47746a52-c7d3-40e6-d53f-fe7ad649d159"
      },
      "source": [
        "test.describe()"
      ],
      "execution_count": 9,
      "outputs": [
        {
          "output_type": "execute_result",
          "data": {
            "text/html": [
              "<div>\n",
              "<style scoped>\n",
              "    .dataframe tbody tr th:only-of-type {\n",
              "        vertical-align: middle;\n",
              "    }\n",
              "\n",
              "    .dataframe tbody tr th {\n",
              "        vertical-align: top;\n",
              "    }\n",
              "\n",
              "    .dataframe thead th {\n",
              "        text-align: right;\n",
              "    }\n",
              "</style>\n",
              "<table border=\"1\" class=\"dataframe\">\n",
              "  <thead>\n",
              "    <tr style=\"text-align: right;\">\n",
              "      <th></th>\n",
              "      <th>id</th>\n",
              "      <th>hour</th>\n",
              "      <th>hour_bef_temperature</th>\n",
              "      <th>hour_bef_precipitation</th>\n",
              "      <th>hour_bef_windspeed</th>\n",
              "      <th>hour_bef_humidity</th>\n",
              "      <th>hour_bef_visibility</th>\n",
              "      <th>hour_bef_ozone</th>\n",
              "      <th>hour_bef_pm10</th>\n",
              "      <th>hour_bef_pm2.5</th>\n",
              "    </tr>\n",
              "  </thead>\n",
              "  <tbody>\n",
              "    <tr>\n",
              "      <th>count</th>\n",
              "      <td>715.000000</td>\n",
              "      <td>715.000000</td>\n",
              "      <td>714.000000</td>\n",
              "      <td>714.000000</td>\n",
              "      <td>714.000000</td>\n",
              "      <td>714.000000</td>\n",
              "      <td>714.000000</td>\n",
              "      <td>680.000000</td>\n",
              "      <td>678.000000</td>\n",
              "      <td>679.000000</td>\n",
              "    </tr>\n",
              "    <tr>\n",
              "      <th>mean</th>\n",
              "      <td>1056.854545</td>\n",
              "      <td>11.472727</td>\n",
              "      <td>23.263305</td>\n",
              "      <td>0.051821</td>\n",
              "      <td>2.388515</td>\n",
              "      <td>56.668067</td>\n",
              "      <td>1359.494398</td>\n",
              "      <td>0.041196</td>\n",
              "      <td>36.930678</td>\n",
              "      <td>24.939617</td>\n",
              "    </tr>\n",
              "    <tr>\n",
              "      <th>std</th>\n",
              "      <td>625.574471</td>\n",
              "      <td>6.928427</td>\n",
              "      <td>4.039645</td>\n",
              "      <td>0.221820</td>\n",
              "      <td>1.171270</td>\n",
              "      <td>19.661880</td>\n",
              "      <td>614.171870</td>\n",
              "      <td>0.020656</td>\n",
              "      <td>12.641503</td>\n",
              "      <td>10.075857</td>\n",
              "    </tr>\n",
              "    <tr>\n",
              "      <th>min</th>\n",
              "      <td>0.000000</td>\n",
              "      <td>0.000000</td>\n",
              "      <td>14.600000</td>\n",
              "      <td>0.000000</td>\n",
              "      <td>0.000000</td>\n",
              "      <td>16.000000</td>\n",
              "      <td>126.000000</td>\n",
              "      <td>0.003000</td>\n",
              "      <td>9.000000</td>\n",
              "      <td>7.000000</td>\n",
              "    </tr>\n",
              "    <tr>\n",
              "      <th>25%</th>\n",
              "      <td>507.000000</td>\n",
              "      <td>5.500000</td>\n",
              "      <td>20.300000</td>\n",
              "      <td>0.000000</td>\n",
              "      <td>1.500000</td>\n",
              "      <td>42.000000</td>\n",
              "      <td>807.250000</td>\n",
              "      <td>0.027000</td>\n",
              "      <td>28.000000</td>\n",
              "      <td>17.000000</td>\n",
              "    </tr>\n",
              "    <tr>\n",
              "      <th>50%</th>\n",
              "      <td>1046.000000</td>\n",
              "      <td>11.000000</td>\n",
              "      <td>22.900000</td>\n",
              "      <td>0.000000</td>\n",
              "      <td>2.300000</td>\n",
              "      <td>55.000000</td>\n",
              "      <td>1489.000000</td>\n",
              "      <td>0.039000</td>\n",
              "      <td>35.000000</td>\n",
              "      <td>24.000000</td>\n",
              "    </tr>\n",
              "    <tr>\n",
              "      <th>75%</th>\n",
              "      <td>1616.500000</td>\n",
              "      <td>17.000000</td>\n",
              "      <td>26.375000</td>\n",
              "      <td>0.000000</td>\n",
              "      <td>3.275000</td>\n",
              "      <td>73.750000</td>\n",
              "      <td>2000.000000</td>\n",
              "      <td>0.052250</td>\n",
              "      <td>45.000000</td>\n",
              "      <td>31.000000</td>\n",
              "    </tr>\n",
              "    <tr>\n",
              "      <th>max</th>\n",
              "      <td>2177.000000</td>\n",
              "      <td>23.000000</td>\n",
              "      <td>33.800000</td>\n",
              "      <td>1.000000</td>\n",
              "      <td>5.900000</td>\n",
              "      <td>100.000000</td>\n",
              "      <td>2000.000000</td>\n",
              "      <td>0.138000</td>\n",
              "      <td>94.000000</td>\n",
              "      <td>69.000000</td>\n",
              "    </tr>\n",
              "  </tbody>\n",
              "</table>\n",
              "</div>"
            ],
            "text/plain": [
              "                id        hour  ...  hour_bef_pm10  hour_bef_pm2.5\n",
              "count   715.000000  715.000000  ...     678.000000      679.000000\n",
              "mean   1056.854545   11.472727  ...      36.930678       24.939617\n",
              "std     625.574471    6.928427  ...      12.641503       10.075857\n",
              "min       0.000000    0.000000  ...       9.000000        7.000000\n",
              "25%     507.000000    5.500000  ...      28.000000       17.000000\n",
              "50%    1046.000000   11.000000  ...      35.000000       24.000000\n",
              "75%    1616.500000   17.000000  ...      45.000000       31.000000\n",
              "max    2177.000000   23.000000  ...      94.000000       69.000000\n",
              "\n",
              "[8 rows x 10 columns]"
            ]
          },
          "metadata": {},
          "execution_count": 9
        }
      ]
    },
    {
      "cell_type": "markdown",
      "metadata": {
        "id": "oLysZAWwcSem"
      },
      "source": [
        "- 기술통계량 종류\n",
        " - count: 해당 column에서 비어 있지 않은 값의 개수\n",
        " - mean: 평균\n",
        " - std: 표준편차\n",
        " - min: 최솟값 (이상치 포함)\n",
        " - 25% (Q1): 전체 데이터를 순서대로 정렬했을 때, 아래에서 부터 1/4번째 지점에 있는 값\n",
        " - 50% (Q2): 중앙값 (전체 데이터를 순서대로 정렬했을 때, 아래에서 부터 2/4번째 지점에 있는 값)\n",
        " - 75% (Q3): 전체 데이터를 순서대로 정렬했을 때, 아래에서 부터 3/4번째 지점에 있는 값\n",
        " - max: 최댓값 (이상치 포함) "
      ]
    },
    {
      "cell_type": "code",
      "metadata": {
        "colab": {
          "base_uri": "https://localhost:8080/",
          "height": 296
        },
        "id": "Sy_-qXYechCV",
        "outputId": "4d3bc0b9-8761-43a5-8fa5-6975fb8b0ea7"
      },
      "source": [
        "train.groupby('hour').mean()['count'].plot()"
      ],
      "execution_count": 15,
      "outputs": [
        {
          "output_type": "execute_result",
          "data": {
            "text/plain": [
              "<matplotlib.axes._subplots.AxesSubplot at 0x7fe9ff4940d0>"
            ]
          },
          "metadata": {},
          "execution_count": 15
        },
        {
          "output_type": "display_data",
          "data": {
            "image/png": "[encoded data removed]",
            "text/plain": [
              "<Figure size 432x288 with 1 Axes>"
            ]
          },
          "metadata": {
            "needs_background": "light"
          }
        }
      ]
    },
    {
      "cell_type": "code",
      "metadata": {
        "id": "TLpMBx_1deOO"
      },
      "source": [
        "import matplotlib.pyplot as plt"
      ],
      "execution_count": 16,
      "outputs": []
    },
    {
      "cell_type": "code",
      "metadata": {
        "colab": {
          "base_uri": "https://localhost:8080/",
          "height": 302
        },
        "id": "-SWPBm34dfJ5",
        "outputId": "073cd49f-23ca-4e0f-c24a-05f91741994b"
      },
      "source": [
        "plt.plot(train.groupby('hour').mean()['count'],'mo-')\n",
        "plt.title('count per hour',fontsize=15)\n",
        "plt.xlabel('hour',fontsize=15)\n",
        "plt.ylabel('count',fontsize=15)\n",
        "plt.grid()\n",
        "plt.savefig('countgraph.png')"
      ],
      "execution_count": 27,
      "outputs": [
        {
          "output_type": "display_data",
          "data": {
            "image/png": "[encoded data removed]",
            "text/plain": [
              "<Figure size 432x288 with 1 Axes>"
            ]
          },
          "metadata": {
            "needs_background": "light"
          }
        }
      ]
    },
    {
      "cell_type": "markdown",
      "metadata": {
        "id": "t3Xd4-5TdtNq"
      },
      "source": [
        "### plt.plot()의 스타일\n",
        "\n",
        "색깔\n",
        "\n",
        "|문자열|약자|\n",
        "|----|-----|\n",
        "|blue|b|\n",
        "|green|g|\n",
        "|red|r|\n",
        "|cyan|c|\n",
        "|magenta|m|\n",
        "|yellow|y|\n",
        "|black|k|\n",
        "|white|w|\n",
        "\n",
        "마커\n",
        "\n",
        "|마커|의미|\n",
        "|----|----|\n",
        "|.|점|\n",
        "|o|원|\n",
        "|v|역삼각형|\n",
        "|^|삼각형|\n",
        "|s|사각형|\n",
        "|*|별|\n",
        "|x|엑스|\n",
        "|d|다이아몬드|\n",
        "\n",
        "선\n",
        "\n",
        "|문자열|의미|\n",
        "|-----|-----|\n",
        "| - | 실선|\n",
        "|-- | 끊어진 실선|\n",
        "| -.| 점+실선|\n",
        "|:|점선|"
      ]
    },
    {
      "cell_type": "markdown",
      "metadata": {
        "id": "6DqYMa59f0hu"
      },
      "source": [
        "### 상관계수"
      ]
    },
    {
      "cell_type": "markdown",
      "metadata": {
        "id": "rNEx3kiOf21h"
      },
      "source": [
        "- 상관계수: 두 개의 변수가 같이 일어나는 강도를 나타내는 수치 \n",
        "- -1에서 1사이의 값을 지닙니다. \n",
        "- -1이나 1인 수치는 현실 세계에서 관측되기 힘든 수치입니다. \n",
        "- 분야별로 기준을 정하는 것에 따라 달라지겠지만, 보통 0.4이상이면 두 개의 변수간에 상관성이 있다고 얘기합니다."
      ]
    },
    {
      "cell_type": "code",
      "metadata": {
        "colab": {
          "base_uri": "https://localhost:8080/",
          "height": 410
        },
        "id": "4unpnuyNf6Dd",
        "outputId": "f4257b45-5ef1-4cd4-dd30-89585c8ca2b1"
      },
      "source": [
        "train.corr() #correlation coefficient"
      ],
      "execution_count": 28,
      "outputs": [
        {
          "output_type": "execute_result",
          "data": {
            "text/html": [
              "<div>\n",
              "<style scoped>\n",
              "    .dataframe tbody tr th:only-of-type {\n",
              "        vertical-align: middle;\n",
              "    }\n",
              "\n",
              "    .dataframe tbody tr th {\n",
              "        vertical-align: top;\n",
              "    }\n",
              "\n",
              "    .dataframe thead th {\n",
              "        text-align: right;\n",
              "    }\n",
              "</style>\n",
              "<table border=\"1\" class=\"dataframe\">\n",
              "  <thead>\n",
              "    <tr style=\"text-align: right;\">\n",
              "      <th></th>\n",
              "      <th>id</th>\n",
              "      <th>hour</th>\n",
              "      <th>hour_bef_temperature</th>\n",
              "      <th>hour_bef_precipitation</th>\n",
              "      <th>hour_bef_windspeed</th>\n",
              "      <th>hour_bef_humidity</th>\n",
              "      <th>hour_bef_visibility</th>\n",
              "      <th>hour_bef_ozone</th>\n",
              "      <th>hour_bef_pm10</th>\n",
              "      <th>hour_bef_pm2.5</th>\n",
              "      <th>count</th>\n",
              "    </tr>\n",
              "  </thead>\n",
              "  <tbody>\n",
              "    <tr>\n",
              "      <th>id</th>\n",
              "      <td>1.000000</td>\n",
              "      <td>-0.010901</td>\n",
              "      <td>-0.000029</td>\n",
              "      <td>-0.056267</td>\n",
              "      <td>-0.003353</td>\n",
              "      <td>-0.017948</td>\n",
              "      <td>0.008950</td>\n",
              "      <td>0.055234</td>\n",
              "      <td>-0.025510</td>\n",
              "      <td>0.003545</td>\n",
              "      <td>-0.002131</td>\n",
              "    </tr>\n",
              "    <tr>\n",
              "      <th>hour</th>\n",
              "      <td>-0.010901</td>\n",
              "      <td>1.000000</td>\n",
              "      <td>0.407306</td>\n",
              "      <td>0.021646</td>\n",
              "      <td>0.462797</td>\n",
              "      <td>-0.329612</td>\n",
              "      <td>0.176491</td>\n",
              "      <td>0.390188</td>\n",
              "      <td>-0.035907</td>\n",
              "      <td>-0.061229</td>\n",
              "      <td>0.626047</td>\n",
              "    </tr>\n",
              "    <tr>\n",
              "      <th>hour_bef_temperature</th>\n",
              "      <td>-0.000029</td>\n",
              "      <td>0.407306</td>\n",
              "      <td>1.000000</td>\n",
              "      <td>-0.097056</td>\n",
              "      <td>0.375618</td>\n",
              "      <td>-0.496088</td>\n",
              "      <td>0.197417</td>\n",
              "      <td>0.541228</td>\n",
              "      <td>-0.003830</td>\n",
              "      <td>-0.078665</td>\n",
              "      <td>0.619404</td>\n",
              "    </tr>\n",
              "    <tr>\n",
              "      <th>hour_bef_precipitation</th>\n",
              "      <td>-0.056267</td>\n",
              "      <td>0.021646</td>\n",
              "      <td>-0.097056</td>\n",
              "      <td>1.000000</td>\n",
              "      <td>0.022746</td>\n",
              "      <td>0.276481</td>\n",
              "      <td>-0.217155</td>\n",
              "      <td>-0.062461</td>\n",
              "      <td>-0.051266</td>\n",
              "      <td>0.004742</td>\n",
              "      <td>-0.163985</td>\n",
              "    </tr>\n",
              "    <tr>\n",
              "      <th>hour_bef_windspeed</th>\n",
              "      <td>-0.003353</td>\n",
              "      <td>0.462797</td>\n",
              "      <td>0.375618</td>\n",
              "      <td>0.022746</td>\n",
              "      <td>1.000000</td>\n",
              "      <td>-0.433012</td>\n",
              "      <td>0.252092</td>\n",
              "      <td>0.520526</td>\n",
              "      <td>0.010176</td>\n",
              "      <td>-0.199113</td>\n",
              "      <td>0.459906</td>\n",
              "    </tr>\n",
              "    <tr>\n",
              "      <th>hour_bef_humidity</th>\n",
              "      <td>-0.017948</td>\n",
              "      <td>-0.329612</td>\n",
              "      <td>-0.496088</td>\n",
              "      <td>0.276481</td>\n",
              "      <td>-0.433012</td>\n",
              "      <td>1.000000</td>\n",
              "      <td>-0.592244</td>\n",
              "      <td>-0.421047</td>\n",
              "      <td>-0.108106</td>\n",
              "      <td>0.167736</td>\n",
              "      <td>-0.471142</td>\n",
              "    </tr>\n",
              "    <tr>\n",
              "      <th>hour_bef_visibility</th>\n",
              "      <td>0.008950</td>\n",
              "      <td>0.176491</td>\n",
              "      <td>0.197417</td>\n",
              "      <td>-0.217155</td>\n",
              "      <td>0.252092</td>\n",
              "      <td>-0.592244</td>\n",
              "      <td>1.000000</td>\n",
              "      <td>0.101899</td>\n",
              "      <td>-0.403277</td>\n",
              "      <td>-0.644989</td>\n",
              "      <td>0.299094</td>\n",
              "    </tr>\n",
              "    <tr>\n",
              "      <th>hour_bef_ozone</th>\n",
              "      <td>0.055234</td>\n",
              "      <td>0.390188</td>\n",
              "      <td>0.541228</td>\n",
              "      <td>-0.062461</td>\n",
              "      <td>0.520526</td>\n",
              "      <td>-0.421047</td>\n",
              "      <td>0.101899</td>\n",
              "      <td>1.000000</td>\n",
              "      <td>0.113015</td>\n",
              "      <td>0.017313</td>\n",
              "      <td>0.477614</td>\n",
              "    </tr>\n",
              "    <tr>\n",
              "      <th>hour_bef_pm10</th>\n",
              "      <td>-0.025510</td>\n",
              "      <td>-0.035907</td>\n",
              "      <td>-0.003830</td>\n",
              "      <td>-0.051266</td>\n",
              "      <td>0.010176</td>\n",
              "      <td>-0.108106</td>\n",
              "      <td>-0.403277</td>\n",
              "      <td>0.113015</td>\n",
              "      <td>1.000000</td>\n",
              "      <td>0.489558</td>\n",
              "      <td>-0.114288</td>\n",
              "    </tr>\n",
              "    <tr>\n",
              "      <th>hour_bef_pm2.5</th>\n",
              "      <td>0.003545</td>\n",
              "      <td>-0.061229</td>\n",
              "      <td>-0.078665</td>\n",
              "      <td>0.004742</td>\n",
              "      <td>-0.199113</td>\n",
              "      <td>0.167736</td>\n",
              "      <td>-0.644989</td>\n",
              "      <td>0.017313</td>\n",
              "      <td>0.489558</td>\n",
              "      <td>1.000000</td>\n",
              "      <td>-0.134293</td>\n",
              "    </tr>\n",
              "    <tr>\n",
              "      <th>count</th>\n",
              "      <td>-0.002131</td>\n",
              "      <td>0.626047</td>\n",
              "      <td>0.619404</td>\n",
              "      <td>-0.163985</td>\n",
              "      <td>0.459906</td>\n",
              "      <td>-0.471142</td>\n",
              "      <td>0.299094</td>\n",
              "      <td>0.477614</td>\n",
              "      <td>-0.114288</td>\n",
              "      <td>-0.134293</td>\n",
              "      <td>1.000000</td>\n",
              "    </tr>\n",
              "  </tbody>\n",
              "</table>\n",
              "</div>"
            ],
            "text/plain": [
              "                              id      hour  ...  hour_bef_pm2.5     count\n",
              "id                      1.000000 -0.010901  ...        0.003545 -0.002131\n",
              "hour                   -0.010901  1.000000  ...       -0.061229  0.626047\n",
              "hour_bef_temperature   -0.000029  0.407306  ...       -0.078665  0.619404\n",
              "hour_bef_precipitation -0.056267  0.021646  ...        0.004742 -0.163985\n",
              "hour_bef_windspeed     -0.003353  0.462797  ...       -0.199113  0.459906\n",
              "hour_bef_humidity      -0.017948 -0.329612  ...        0.167736 -0.471142\n",
              "hour_bef_visibility     0.008950  0.176491  ...       -0.644989  0.299094\n",
              "hour_bef_ozone          0.055234  0.390188  ...        0.017313  0.477614\n",
              "hour_bef_pm10          -0.025510 -0.035907  ...        0.489558 -0.114288\n",
              "hour_bef_pm2.5          0.003545 -0.061229  ...        1.000000 -0.134293\n",
              "count                  -0.002131  0.626047  ...       -0.134293  1.000000\n",
              "\n",
              "[11 rows x 11 columns]"
            ]
          },
          "metadata": {},
          "execution_count": 28
        }
      ]
    },
    {
      "cell_type": "code",
      "metadata": {
        "colab": {
          "base_uri": "https://localhost:8080/",
          "height": 379
        },
        "id": "KBt-ByTPgQEB",
        "outputId": "3665801a-3abb-4b6d-8596-86d6a8960891"
      },
      "source": [
        "test.corr() #correlation coefficient"
      ],
      "execution_count": 29,
      "outputs": [
        {
          "output_type": "execute_result",
          "data": {
            "text/html": [
              "<div>\n",
              "<style scoped>\n",
              "    .dataframe tbody tr th:only-of-type {\n",
              "        vertical-align: middle;\n",
              "    }\n",
              "\n",
              "    .dataframe tbody tr th {\n",
              "        vertical-align: top;\n",
              "    }\n",
              "\n",
              "    .dataframe thead th {\n",
              "        text-align: right;\n",
              "    }\n",
              "</style>\n",
              "<table border=\"1\" class=\"dataframe\">\n",
              "  <thead>\n",
              "    <tr style=\"text-align: right;\">\n",
              "      <th></th>\n",
              "      <th>id</th>\n",
              "      <th>hour</th>\n",
              "      <th>hour_bef_temperature</th>\n",
              "      <th>hour_bef_precipitation</th>\n",
              "      <th>hour_bef_windspeed</th>\n",
              "      <th>hour_bef_humidity</th>\n",
              "      <th>hour_bef_visibility</th>\n",
              "      <th>hour_bef_ozone</th>\n",
              "      <th>hour_bef_pm10</th>\n",
              "      <th>hour_bef_pm2.5</th>\n",
              "    </tr>\n",
              "  </thead>\n",
              "  <tbody>\n",
              "    <tr>\n",
              "      <th>id</th>\n",
              "      <td>1.000000</td>\n",
              "      <td>-0.023110</td>\n",
              "      <td>-0.024285</td>\n",
              "      <td>-0.080214</td>\n",
              "      <td>0.019491</td>\n",
              "      <td>0.025796</td>\n",
              "      <td>-0.022034</td>\n",
              "      <td>0.009907</td>\n",
              "      <td>0.022468</td>\n",
              "      <td>0.036927</td>\n",
              "    </tr>\n",
              "    <tr>\n",
              "      <th>hour</th>\n",
              "      <td>-0.023110</td>\n",
              "      <td>1.000000</td>\n",
              "      <td>0.482014</td>\n",
              "      <td>0.006297</td>\n",
              "      <td>0.503153</td>\n",
              "      <td>-0.355165</td>\n",
              "      <td>0.203000</td>\n",
              "      <td>0.370070</td>\n",
              "      <td>0.105012</td>\n",
              "      <td>0.060712</td>\n",
              "    </tr>\n",
              "    <tr>\n",
              "      <th>hour_bef_temperature</th>\n",
              "      <td>-0.024285</td>\n",
              "      <td>0.482014</td>\n",
              "      <td>1.000000</td>\n",
              "      <td>-0.233748</td>\n",
              "      <td>0.372406</td>\n",
              "      <td>-0.579471</td>\n",
              "      <td>0.143118</td>\n",
              "      <td>0.552657</td>\n",
              "      <td>0.344240</td>\n",
              "      <td>0.312587</td>\n",
              "    </tr>\n",
              "    <tr>\n",
              "      <th>hour_bef_precipitation</th>\n",
              "      <td>-0.080214</td>\n",
              "      <td>0.006297</td>\n",
              "      <td>-0.233748</td>\n",
              "      <td>1.000000</td>\n",
              "      <td>-0.098653</td>\n",
              "      <td>0.390806</td>\n",
              "      <td>-0.312142</td>\n",
              "      <td>-0.079594</td>\n",
              "      <td>-0.152279</td>\n",
              "      <td>-0.071372</td>\n",
              "    </tr>\n",
              "    <tr>\n",
              "      <th>hour_bef_windspeed</th>\n",
              "      <td>0.019491</td>\n",
              "      <td>0.503153</td>\n",
              "      <td>0.372406</td>\n",
              "      <td>-0.098653</td>\n",
              "      <td>1.000000</td>\n",
              "      <td>-0.396020</td>\n",
              "      <td>0.212222</td>\n",
              "      <td>0.521737</td>\n",
              "      <td>0.138788</td>\n",
              "      <td>0.047929</td>\n",
              "    </tr>\n",
              "    <tr>\n",
              "      <th>hour_bef_humidity</th>\n",
              "      <td>0.025796</td>\n",
              "      <td>-0.355165</td>\n",
              "      <td>-0.579471</td>\n",
              "      <td>0.390806</td>\n",
              "      <td>-0.396020</td>\n",
              "      <td>1.000000</td>\n",
              "      <td>-0.689857</td>\n",
              "      <td>-0.404301</td>\n",
              "      <td>-0.008442</td>\n",
              "      <td>0.198467</td>\n",
              "    </tr>\n",
              "    <tr>\n",
              "      <th>hour_bef_visibility</th>\n",
              "      <td>-0.022034</td>\n",
              "      <td>0.203000</td>\n",
              "      <td>0.143118</td>\n",
              "      <td>-0.312142</td>\n",
              "      <td>0.212222</td>\n",
              "      <td>-0.689857</td>\n",
              "      <td>1.000000</td>\n",
              "      <td>-0.030971</td>\n",
              "      <td>-0.446661</td>\n",
              "      <td>-0.607991</td>\n",
              "    </tr>\n",
              "    <tr>\n",
              "      <th>hour_bef_ozone</th>\n",
              "      <td>0.009907</td>\n",
              "      <td>0.370070</td>\n",
              "      <td>0.552657</td>\n",
              "      <td>-0.079594</td>\n",
              "      <td>0.521737</td>\n",
              "      <td>-0.404301</td>\n",
              "      <td>-0.030971</td>\n",
              "      <td>1.000000</td>\n",
              "      <td>0.443571</td>\n",
              "      <td>0.397606</td>\n",
              "    </tr>\n",
              "    <tr>\n",
              "      <th>hour_bef_pm10</th>\n",
              "      <td>0.022468</td>\n",
              "      <td>0.105012</td>\n",
              "      <td>0.344240</td>\n",
              "      <td>-0.152279</td>\n",
              "      <td>0.138788</td>\n",
              "      <td>-0.008442</td>\n",
              "      <td>-0.446661</td>\n",
              "      <td>0.443571</td>\n",
              "      <td>1.000000</td>\n",
              "      <td>0.909827</td>\n",
              "    </tr>\n",
              "    <tr>\n",
              "      <th>hour_bef_pm2.5</th>\n",
              "      <td>0.036927</td>\n",
              "      <td>0.060712</td>\n",
              "      <td>0.312587</td>\n",
              "      <td>-0.071372</td>\n",
              "      <td>0.047929</td>\n",
              "      <td>0.198467</td>\n",
              "      <td>-0.607991</td>\n",
              "      <td>0.397606</td>\n",
              "      <td>0.909827</td>\n",
              "      <td>1.000000</td>\n",
              "    </tr>\n",
              "  </tbody>\n",
              "</table>\n",
              "</div>"
            ],
            "text/plain": [
              "                              id      hour  ...  hour_bef_pm10  hour_bef_pm2.5\n",
              "id                      1.000000 -0.023110  ...       0.022468        0.036927\n",
              "hour                   -0.023110  1.000000  ...       0.105012        0.060712\n",
              "hour_bef_temperature   -0.024285  0.482014  ...       0.344240        0.312587\n",
              "hour_bef_precipitation -0.080214  0.006297  ...      -0.152279       -0.071372\n",
              "hour_bef_windspeed      0.019491  0.503153  ...       0.138788        0.047929\n",
              "hour_bef_humidity       0.025796 -0.355165  ...      -0.008442        0.198467\n",
              "hour_bef_visibility    -0.022034  0.203000  ...      -0.446661       -0.607991\n",
              "hour_bef_ozone          0.009907  0.370070  ...       0.443571        0.397606\n",
              "hour_bef_pm10           0.022468  0.105012  ...       1.000000        0.909827\n",
              "hour_bef_pm2.5          0.036927  0.060712  ...       0.909827        1.000000\n",
              "\n",
              "[10 rows x 10 columns]"
            ]
          },
          "metadata": {},
          "execution_count": 29
        }
      ]
    },
    {
      "cell_type": "code",
      "metadata": {
        "colab": {
          "base_uri": "https://localhost:8080/"
        },
        "id": "Aui_CdSPgSPY",
        "outputId": "765dfb9e-52ba-44b9-c8ca-9012e837ea99"
      },
      "source": [
        "train.isna().sum() #결측값 갯수 확인"
      ],
      "execution_count": 30,
      "outputs": [
        {
          "output_type": "execute_result",
          "data": {
            "text/plain": [
              "id                          0\n",
              "hour                        0\n",
              "hour_bef_temperature        2\n",
              "hour_bef_precipitation      2\n",
              "hour_bef_windspeed          9\n",
              "hour_bef_humidity           2\n",
              "hour_bef_visibility         2\n",
              "hour_bef_ozone             76\n",
              "hour_bef_pm10              90\n",
              "hour_bef_pm2.5            117\n",
              "count                       0\n",
              "dtype: int64"
            ]
          },
          "metadata": {},
          "execution_count": 30
        }
      ]
    },
    {
      "cell_type": "markdown",
      "metadata": {
        "id": "E9KbLuAf1uwm"
      },
      "source": [
        "#기온 결측치 전처리"
      ]
    },
    {
      "cell_type": "code",
      "metadata": {
        "colab": {
          "base_uri": "https://localhost:8080/",
          "height": 131
        },
        "id": "zggTQFzVyEZ1",
        "outputId": "1ddadaa4-3493-4ddd-f6ad-777634d9f05f"
      },
      "source": [
        "train[train['hour_bef_temperature'].isna()] #기온 결측치 인덱스 찾기"
      ],
      "execution_count": 32,
      "outputs": [
        {
          "output_type": "execute_result",
          "data": {
            "text/html": [
              "<div>\n",
              "<style scoped>\n",
              "    .dataframe tbody tr th:only-of-type {\n",
              "        vertical-align: middle;\n",
              "    }\n",
              "\n",
              "    .dataframe tbody tr th {\n",
              "        vertical-align: top;\n",
              "    }\n",
              "\n",
              "    .dataframe thead th {\n",
              "        text-align: right;\n",
              "    }\n",
              "</style>\n",
              "<table border=\"1\" class=\"dataframe\">\n",
              "  <thead>\n",
              "    <tr style=\"text-align: right;\">\n",
              "      <th></th>\n",
              "      <th>id</th>\n",
              "      <th>hour</th>\n",
              "      <th>hour_bef_temperature</th>\n",
              "      <th>hour_bef_precipitation</th>\n",
              "      <th>hour_bef_windspeed</th>\n",
              "      <th>hour_bef_humidity</th>\n",
              "      <th>hour_bef_visibility</th>\n",
              "      <th>hour_bef_ozone</th>\n",
              "      <th>hour_bef_pm10</th>\n",
              "      <th>hour_bef_pm2.5</th>\n",
              "      <th>count</th>\n",
              "    </tr>\n",
              "  </thead>\n",
              "  <tbody>\n",
              "    <tr>\n",
              "      <th>934</th>\n",
              "      <td>1420</td>\n",
              "      <td>0</td>\n",
              "      <td>NaN</td>\n",
              "      <td>NaN</td>\n",
              "      <td>NaN</td>\n",
              "      <td>NaN</td>\n",
              "      <td>NaN</td>\n",
              "      <td>NaN</td>\n",
              "      <td>NaN</td>\n",
              "      <td>NaN</td>\n",
              "      <td>39.0</td>\n",
              "    </tr>\n",
              "    <tr>\n",
              "      <th>1035</th>\n",
              "      <td>1553</td>\n",
              "      <td>18</td>\n",
              "      <td>NaN</td>\n",
              "      <td>NaN</td>\n",
              "      <td>NaN</td>\n",
              "      <td>NaN</td>\n",
              "      <td>NaN</td>\n",
              "      <td>NaN</td>\n",
              "      <td>NaN</td>\n",
              "      <td>NaN</td>\n",
              "      <td>1.0</td>\n",
              "    </tr>\n",
              "  </tbody>\n",
              "</table>\n",
              "</div>"
            ],
            "text/plain": [
              "        id  hour  hour_bef_temperature  ...  hour_bef_pm10  hour_bef_pm2.5  count\n",
              "934   1420     0                   NaN  ...            NaN             NaN   39.0\n",
              "1035  1553    18                   NaN  ...            NaN             NaN    1.0\n",
              "\n",
              "[2 rows x 11 columns]"
            ]
          },
          "metadata": {},
          "execution_count": 32
        }
      ]
    },
    {
      "cell_type": "code",
      "metadata": {
        "colab": {
          "base_uri": "https://localhost:8080/"
        },
        "id": "2f4sBOq_zVPf",
        "outputId": "092bd8b6-3141-4e58-a3d1-de9ed4071f89"
      },
      "source": [
        "train.groupby('hour').mean()['hour_bef_temperature'] #시간별 평균 기온"
      ],
      "execution_count": 33,
      "outputs": [
        {
          "output_type": "execute_result",
          "data": {
            "text/plain": [
              "hour\n",
              "0     14.788136\n",
              "1     14.155738\n",
              "2     13.747541\n",
              "3     13.357377\n",
              "4     13.001639\n",
              "5     12.673770\n",
              "6     12.377049\n",
              "7     12.191803\n",
              "8     12.600000\n",
              "9     14.318033\n",
              "10    16.242623\n",
              "11    18.019672\n",
              "12    19.457377\n",
              "13    20.648333\n",
              "14    21.234426\n",
              "15    21.744262\n",
              "16    22.015000\n",
              "17    21.603333\n",
              "18    20.926667\n",
              "19    19.704918\n",
              "20    18.191803\n",
              "21    16.978333\n",
              "22    16.063934\n",
              "23    15.418033\n",
              "Name: hour_bef_temperature, dtype: float64"
            ]
          },
          "metadata": {},
          "execution_count": 33
        }
      ]
    },
    {
      "cell_type": "code",
      "metadata": {
        "colab": {
          "base_uri": "https://localhost:8080/"
        },
        "id": "sGdMEyfaz0c1",
        "outputId": "def5f3fc-a87a-44c2-b44b-c1d7ed5879a7"
      },
      "source": [
        "train.mean()['hour_bef_temperature'] #전체적 평균기온"
      ],
      "execution_count": 35,
      "outputs": [
        {
          "output_type": "execute_result",
          "data": {
            "text/plain": [
              "16.717433081674653"
            ]
          },
          "metadata": {},
          "execution_count": 35
        }
      ]
    },
    {
      "cell_type": "code",
      "metadata": {
        "id": "beLS1Sjqz7jn"
      },
      "source": [
        "train['hour_bef_temperature'].fillna({934:14.788136, 1035:20.926667},inplace=True) #결측치 임의 입력"
      ],
      "execution_count": 39,
      "outputs": []
    },
    {
      "cell_type": "markdown",
      "metadata": {
        "id": "TqZ7zeke0rGx"
      },
      "source": [
        "inplace=True를 안하면 입력만 되고 저장이 안됨"
      ]
    },
    {
      "cell_type": "code",
      "metadata": {
        "colab": {
          "base_uri": "https://localhost:8080/",
          "height": 131
        },
        "id": "Xn0Ng5kj0vZf",
        "outputId": "a143169d-068c-4cee-9db3-1b54e3567fb1"
      },
      "source": [
        "train.loc[[934,1035],:] #확인"
      ],
      "execution_count": 48,
      "outputs": [
        {
          "output_type": "execute_result",
          "data": {
            "text/html": [
              "<div>\n",
              "<style scoped>\n",
              "    .dataframe tbody tr th:only-of-type {\n",
              "        vertical-align: middle;\n",
              "    }\n",
              "\n",
              "    .dataframe tbody tr th {\n",
              "        vertical-align: top;\n",
              "    }\n",
              "\n",
              "    .dataframe thead th {\n",
              "        text-align: right;\n",
              "    }\n",
              "</style>\n",
              "<table border=\"1\" class=\"dataframe\">\n",
              "  <thead>\n",
              "    <tr style=\"text-align: right;\">\n",
              "      <th></th>\n",
              "      <th>id</th>\n",
              "      <th>hour</th>\n",
              "      <th>hour_bef_temperature</th>\n",
              "      <th>hour_bef_precipitation</th>\n",
              "      <th>hour_bef_windspeed</th>\n",
              "      <th>hour_bef_humidity</th>\n",
              "      <th>hour_bef_visibility</th>\n",
              "      <th>hour_bef_ozone</th>\n",
              "      <th>hour_bef_pm10</th>\n",
              "      <th>hour_bef_pm2.5</th>\n",
              "      <th>count</th>\n",
              "    </tr>\n",
              "  </thead>\n",
              "  <tbody>\n",
              "    <tr>\n",
              "      <th>934</th>\n",
              "      <td>1420</td>\n",
              "      <td>0</td>\n",
              "      <td>14.788136</td>\n",
              "      <td>NaN</td>\n",
              "      <td>NaN</td>\n",
              "      <td>NaN</td>\n",
              "      <td>NaN</td>\n",
              "      <td>NaN</td>\n",
              "      <td>NaN</td>\n",
              "      <td>NaN</td>\n",
              "      <td>39.0</td>\n",
              "    </tr>\n",
              "    <tr>\n",
              "      <th>1035</th>\n",
              "      <td>1553</td>\n",
              "      <td>18</td>\n",
              "      <td>20.926667</td>\n",
              "      <td>NaN</td>\n",
              "      <td>NaN</td>\n",
              "      <td>NaN</td>\n",
              "      <td>NaN</td>\n",
              "      <td>NaN</td>\n",
              "      <td>NaN</td>\n",
              "      <td>NaN</td>\n",
              "      <td>1.0</td>\n",
              "    </tr>\n",
              "  </tbody>\n",
              "</table>\n",
              "</div>"
            ],
            "text/plain": [
              "        id  hour  hour_bef_temperature  ...  hour_bef_pm10  hour_bef_pm2.5  count\n",
              "934   1420     0             14.788136  ...            NaN             NaN   39.0\n",
              "1035  1553    18             20.926667  ...            NaN             NaN    1.0\n",
              "\n",
              "[2 rows x 11 columns]"
            ]
          },
          "metadata": {},
          "execution_count": 48
        }
      ]
    },
    {
      "cell_type": "markdown",
      "metadata": {
        "id": "1PMdNNJE1zs0"
      },
      "source": [
        "#풍속 결측치 전처리"
      ]
    },
    {
      "cell_type": "code",
      "metadata": {
        "colab": {
          "base_uri": "https://localhost:8080/",
          "height": 68
        },
        "id": "-hbqq2c_1q37",
        "outputId": "ad7994ee-0514-4ea5-af47-bd5372a8e62b"
      },
      "source": [
        "train[train['hour_bef_windspeed'].isna()]"
      ],
      "execution_count": 65,
      "outputs": [
        {
          "output_type": "execute_result",
          "data": {
            "text/html": [
              "<div>\n",
              "<style scoped>\n",
              "    .dataframe tbody tr th:only-of-type {\n",
              "        vertical-align: middle;\n",
              "    }\n",
              "\n",
              "    .dataframe tbody tr th {\n",
              "        vertical-align: top;\n",
              "    }\n",
              "\n",
              "    .dataframe thead th {\n",
              "        text-align: right;\n",
              "    }\n",
              "</style>\n",
              "<table border=\"1\" class=\"dataframe\">\n",
              "  <thead>\n",
              "    <tr style=\"text-align: right;\">\n",
              "      <th></th>\n",
              "      <th>id</th>\n",
              "      <th>hour</th>\n",
              "      <th>hour_bef_temperature</th>\n",
              "      <th>hour_bef_precipitation</th>\n",
              "      <th>hour_bef_windspeed</th>\n",
              "      <th>hour_bef_humidity</th>\n",
              "      <th>hour_bef_visibility</th>\n",
              "      <th>hour_bef_ozone</th>\n",
              "      <th>hour_bef_pm10</th>\n",
              "      <th>hour_bef_pm2.5</th>\n",
              "      <th>count</th>\n",
              "    </tr>\n",
              "  </thead>\n",
              "  <tbody>\n",
              "  </tbody>\n",
              "</table>\n",
              "</div>"
            ],
            "text/plain": [
              "Empty DataFrame\n",
              "Columns: [id, hour, hour_bef_temperature, hour_bef_precipitation, hour_bef_windspeed, hour_bef_humidity, hour_bef_visibility, hour_bef_ozone, hour_bef_pm10, hour_bef_pm2.5, count]\n",
              "Index: []"
            ]
          },
          "metadata": {},
          "execution_count": 65
        }
      ]
    },
    {
      "cell_type": "code",
      "metadata": {
        "colab": {
          "base_uri": "https://localhost:8080/"
        },
        "id": "qn56o7m22H2t",
        "outputId": "0fadbd6f-26fe-4368-8cf1-dba74bb4eaaf"
      },
      "source": [
        "train.groupby('hour').mean()['hour_bef_windspeed']"
      ],
      "execution_count": 50,
      "outputs": [
        {
          "output_type": "execute_result",
          "data": {
            "text/plain": [
              "hour\n",
              "0     1.965517\n",
              "1     1.836667\n",
              "2     1.633333\n",
              "3     1.620000\n",
              "4     1.409836\n",
              "5     1.296721\n",
              "6     1.331148\n",
              "7     1.262295\n",
              "8     1.632787\n",
              "9     1.829508\n",
              "10    2.122951\n",
              "11    2.485246\n",
              "12    2.766667\n",
              "13    3.281356\n",
              "14    3.522951\n",
              "15    3.768852\n",
              "16    3.820000\n",
              "17    3.801667\n",
              "18    3.838333\n",
              "19    3.595082\n",
              "20    3.278333\n",
              "21    2.755000\n",
              "22    2.498361\n",
              "23    2.195082\n",
              "Name: hour_bef_windspeed, dtype: float64"
            ]
          },
          "metadata": {},
          "execution_count": 50
        }
      ]
    },
    {
      "cell_type": "code",
      "metadata": {
        "id": "S8ktHcHk2L7o"
      },
      "source": [
        "train['hour_bef_windspeed'].fillna({18:3.281356, 244:1.836667, 260:1.620000, 376:1.965517, 780:3.278333, 934:1.965517, 1035:3.838333, 1138:2.766667, 1229:1.633333},inplace=True)"
      ],
      "execution_count": 61,
      "outputs": []
    },
    {
      "cell_type": "markdown",
      "metadata": {
        "id": "4TQJQGzs4WXy"
      },
      "source": [
        "테스트 세트도 결측값 처리 해줄거임!"
      ]
    },
    {
      "cell_type": "code",
      "metadata": {
        "colab": {
          "base_uri": "https://localhost:8080/"
        },
        "id": "VJs-WLDY4a3J",
        "outputId": "58917b5a-2d10-474e-eb3c-3dc85b4f68be"
      },
      "source": [
        "test.isna().sum()"
      ],
      "execution_count": 89,
      "outputs": [
        {
          "output_type": "execute_result",
          "data": {
            "text/plain": [
              "id                         0\n",
              "hour                       0\n",
              "hour_bef_temperature       0\n",
              "hour_bef_precipitation     1\n",
              "hour_bef_windspeed         0\n",
              "hour_bef_humidity          1\n",
              "hour_bef_visibility        1\n",
              "hour_bef_ozone            35\n",
              "hour_bef_pm10             37\n",
              "hour_bef_pm2.5            36\n",
              "dtype: int64"
            ]
          },
          "metadata": {},
          "execution_count": 89
        }
      ]
    },
    {
      "cell_type": "code",
      "metadata": {
        "colab": {
          "base_uri": "https://localhost:8080/",
          "height": 100
        },
        "id": "A0xW6tt_4fwu",
        "outputId": "13b95645-d992-4fb6-b91d-ccd246231ce5"
      },
      "source": [
        "test[test['hour_bef_temperature'].isna()]"
      ],
      "execution_count": 72,
      "outputs": [
        {
          "output_type": "execute_result",
          "data": {
            "text/html": [
              "<div>\n",
              "<style scoped>\n",
              "    .dataframe tbody tr th:only-of-type {\n",
              "        vertical-align: middle;\n",
              "    }\n",
              "\n",
              "    .dataframe tbody tr th {\n",
              "        vertical-align: top;\n",
              "    }\n",
              "\n",
              "    .dataframe thead th {\n",
              "        text-align: right;\n",
              "    }\n",
              "</style>\n",
              "<table border=\"1\" class=\"dataframe\">\n",
              "  <thead>\n",
              "    <tr style=\"text-align: right;\">\n",
              "      <th></th>\n",
              "      <th>id</th>\n",
              "      <th>hour</th>\n",
              "      <th>hour_bef_temperature</th>\n",
              "      <th>hour_bef_precipitation</th>\n",
              "      <th>hour_bef_windspeed</th>\n",
              "      <th>hour_bef_humidity</th>\n",
              "      <th>hour_bef_visibility</th>\n",
              "      <th>hour_bef_ozone</th>\n",
              "      <th>hour_bef_pm10</th>\n",
              "      <th>hour_bef_pm2.5</th>\n",
              "    </tr>\n",
              "  </thead>\n",
              "  <tbody>\n",
              "    <tr>\n",
              "      <th>653</th>\n",
              "      <td>1943</td>\n",
              "      <td>19</td>\n",
              "      <td>NaN</td>\n",
              "      <td>NaN</td>\n",
              "      <td>NaN</td>\n",
              "      <td>NaN</td>\n",
              "      <td>NaN</td>\n",
              "      <td>NaN</td>\n",
              "      <td>NaN</td>\n",
              "      <td>NaN</td>\n",
              "    </tr>\n",
              "  </tbody>\n",
              "</table>\n",
              "</div>"
            ],
            "text/plain": [
              "       id  hour  ...  hour_bef_pm10  hour_bef_pm2.5\n",
              "653  1943    19  ...            NaN             NaN\n",
              "\n",
              "[1 rows x 10 columns]"
            ]
          },
          "metadata": {},
          "execution_count": 72
        }
      ]
    },
    {
      "cell_type": "code",
      "metadata": {
        "colab": {
          "base_uri": "https://localhost:8080/"
        },
        "id": "LANXOaDG4n-_",
        "outputId": "05ceb169-731a-4401-d4e6-16f4f482a1b1"
      },
      "source": [
        "test.groupby('hour').mean()['hour_bef_temperature']"
      ],
      "execution_count": 77,
      "outputs": [
        {
          "output_type": "execute_result",
          "data": {
            "text/plain": [
              "hour\n",
              "0     21.386667\n",
              "1     20.986667\n",
              "2     20.600000\n",
              "3     20.203333\n",
              "4     19.853333\n",
              "5     19.634483\n",
              "6     19.243333\n",
              "7     19.190000\n",
              "8     19.846667\n",
              "9     21.266667\n",
              "10    22.683333\n",
              "11    24.110000\n",
              "12    25.430000\n",
              "13    26.630000\n",
              "14    27.473333\n",
              "15    28.040000\n",
              "16    28.255172\n",
              "17    27.848276\n",
              "18    27.010345\n",
              "19    26.110345\n",
              "20    24.803333\n",
              "21    23.696552\n",
              "22    22.523333\n",
              "23    21.926667\n",
              "Name: hour_bef_temperature, dtype: float64"
            ]
          },
          "metadata": {},
          "execution_count": 77
        }
      ]
    },
    {
      "cell_type": "code",
      "metadata": {
        "id": "ZoE8o5GN5WJR"
      },
      "source": [
        "test['hour_bef_temperature'].fillna({653:26.110345},inplace=True)"
      ],
      "execution_count": 82,
      "outputs": []
    },
    {
      "cell_type": "code",
      "metadata": {
        "colab": {
          "base_uri": "https://localhost:8080/",
          "height": 68
        },
        "id": "06ydwMpM5oFc",
        "outputId": "bf2cf095-7fe3-4f9e-c179-c4e3ae1c443b"
      },
      "source": [
        "test[test['hour_bef_windspeed'].isna()]"
      ],
      "execution_count": 88,
      "outputs": [
        {
          "output_type": "execute_result",
          "data": {
            "text/html": [
              "<div>\n",
              "<style scoped>\n",
              "    .dataframe tbody tr th:only-of-type {\n",
              "        vertical-align: middle;\n",
              "    }\n",
              "\n",
              "    .dataframe tbody tr th {\n",
              "        vertical-align: top;\n",
              "    }\n",
              "\n",
              "    .dataframe thead th {\n",
              "        text-align: right;\n",
              "    }\n",
              "</style>\n",
              "<table border=\"1\" class=\"dataframe\">\n",
              "  <thead>\n",
              "    <tr style=\"text-align: right;\">\n",
              "      <th></th>\n",
              "      <th>id</th>\n",
              "      <th>hour</th>\n",
              "      <th>hour_bef_temperature</th>\n",
              "      <th>hour_bef_precipitation</th>\n",
              "      <th>hour_bef_windspeed</th>\n",
              "      <th>hour_bef_humidity</th>\n",
              "      <th>hour_bef_visibility</th>\n",
              "      <th>hour_bef_ozone</th>\n",
              "      <th>hour_bef_pm10</th>\n",
              "      <th>hour_bef_pm2.5</th>\n",
              "    </tr>\n",
              "  </thead>\n",
              "  <tbody>\n",
              "  </tbody>\n",
              "</table>\n",
              "</div>"
            ],
            "text/plain": [
              "Empty DataFrame\n",
              "Columns: [id, hour, hour_bef_temperature, hour_bef_precipitation, hour_bef_windspeed, hour_bef_humidity, hour_bef_visibility, hour_bef_ozone, hour_bef_pm10, hour_bef_pm2.5]\n",
              "Index: []"
            ]
          },
          "metadata": {},
          "execution_count": 88
        }
      ]
    },
    {
      "cell_type": "code",
      "metadata": {
        "colab": {
          "base_uri": "https://localhost:8080/",
          "height": 845
        },
        "id": "fDUG3Q6S5xHX",
        "outputId": "0fb5ae60-7a4a-44cb-f8d4-7167bf71dca9"
      },
      "source": [
        "test.groupby('hour').mean(['hour_bef_windspeed'])"
      ],
      "execution_count": 86,
      "outputs": [
        {
          "output_type": "execute_result",
          "data": {
            "text/html": [
              "<div>\n",
              "<style scoped>\n",
              "    .dataframe tbody tr th:only-of-type {\n",
              "        vertical-align: middle;\n",
              "    }\n",
              "\n",
              "    .dataframe tbody tr th {\n",
              "        vertical-align: top;\n",
              "    }\n",
              "\n",
              "    .dataframe thead th {\n",
              "        text-align: right;\n",
              "    }\n",
              "</style>\n",
              "<table border=\"1\" class=\"dataframe\">\n",
              "  <thead>\n",
              "    <tr style=\"text-align: right;\">\n",
              "      <th></th>\n",
              "      <th>id</th>\n",
              "      <th>hour_bef_temperature</th>\n",
              "      <th>hour_bef_precipitation</th>\n",
              "      <th>hour_bef_windspeed</th>\n",
              "      <th>hour_bef_humidity</th>\n",
              "      <th>hour_bef_visibility</th>\n",
              "      <th>hour_bef_ozone</th>\n",
              "      <th>hour_bef_pm10</th>\n",
              "      <th>hour_bef_pm2.5</th>\n",
              "    </tr>\n",
              "    <tr>\n",
              "      <th>hour</th>\n",
              "      <th></th>\n",
              "      <th></th>\n",
              "      <th></th>\n",
              "      <th></th>\n",
              "      <th></th>\n",
              "      <th></th>\n",
              "      <th></th>\n",
              "      <th></th>\n",
              "      <th></th>\n",
              "    </tr>\n",
              "  </thead>\n",
              "  <tbody>\n",
              "    <tr>\n",
              "      <th>0</th>\n",
              "      <td>984.700000</td>\n",
              "      <td>21.386667</td>\n",
              "      <td>0.033333</td>\n",
              "      <td>1.986667</td>\n",
              "      <td>63.200000</td>\n",
              "      <td>1468.100000</td>\n",
              "      <td>0.029933</td>\n",
              "      <td>34.833333</td>\n",
              "      <td>23.200000</td>\n",
              "    </tr>\n",
              "    <tr>\n",
              "      <th>1</th>\n",
              "      <td>1040.266667</td>\n",
              "      <td>20.986667</td>\n",
              "      <td>0.066667</td>\n",
              "      <td>1.840000</td>\n",
              "      <td>65.000000</td>\n",
              "      <td>1340.733333</td>\n",
              "      <td>NaN</td>\n",
              "      <td>NaN</td>\n",
              "      <td>NaN</td>\n",
              "    </tr>\n",
              "    <tr>\n",
              "      <th>2</th>\n",
              "      <td>1038.733333</td>\n",
              "      <td>20.600000</td>\n",
              "      <td>0.066667</td>\n",
              "      <td>1.823333</td>\n",
              "      <td>67.266667</td>\n",
              "      <td>1254.833333</td>\n",
              "      <td>0.029400</td>\n",
              "      <td>35.033333</td>\n",
              "      <td>23.600000</td>\n",
              "    </tr>\n",
              "    <tr>\n",
              "      <th>3</th>\n",
              "      <td>1125.700000</td>\n",
              "      <td>20.203333</td>\n",
              "      <td>0.033333</td>\n",
              "      <td>1.636667</td>\n",
              "      <td>68.700000</td>\n",
              "      <td>1240.500000</td>\n",
              "      <td>0.031267</td>\n",
              "      <td>34.466667</td>\n",
              "      <td>24.366667</td>\n",
              "    </tr>\n",
              "    <tr>\n",
              "      <th>4</th>\n",
              "      <td>1147.500000</td>\n",
              "      <td>19.853333</td>\n",
              "      <td>0.033333</td>\n",
              "      <td>1.543333</td>\n",
              "      <td>69.600000</td>\n",
              "      <td>1230.600000</td>\n",
              "      <td>0.032833</td>\n",
              "      <td>33.800000</td>\n",
              "      <td>23.633333</td>\n",
              "    </tr>\n",
              "    <tr>\n",
              "      <th>5</th>\n",
              "      <td>954.620690</td>\n",
              "      <td>19.634483</td>\n",
              "      <td>0.034483</td>\n",
              "      <td>1.589655</td>\n",
              "      <td>70.034483</td>\n",
              "      <td>1161.241379</td>\n",
              "      <td>0.032690</td>\n",
              "      <td>34.172414</td>\n",
              "      <td>24.310345</td>\n",
              "    </tr>\n",
              "    <tr>\n",
              "      <th>6</th>\n",
              "      <td>1270.633333</td>\n",
              "      <td>19.243333</td>\n",
              "      <td>0.100000</td>\n",
              "      <td>1.396667</td>\n",
              "      <td>72.333333</td>\n",
              "      <td>1107.833333</td>\n",
              "      <td>0.031633</td>\n",
              "      <td>34.666667</td>\n",
              "      <td>24.133333</td>\n",
              "    </tr>\n",
              "    <tr>\n",
              "      <th>7</th>\n",
              "      <td>957.466667</td>\n",
              "      <td>19.190000</td>\n",
              "      <td>0.100000</td>\n",
              "      <td>1.453333</td>\n",
              "      <td>71.900000</td>\n",
              "      <td>1080.633333</td>\n",
              "      <td>0.028100</td>\n",
              "      <td>35.966667</td>\n",
              "      <td>24.933333</td>\n",
              "    </tr>\n",
              "    <tr>\n",
              "      <th>8</th>\n",
              "      <td>1096.566667</td>\n",
              "      <td>19.846667</td>\n",
              "      <td>0.100000</td>\n",
              "      <td>1.446667</td>\n",
              "      <td>67.700000</td>\n",
              "      <td>1095.600000</td>\n",
              "      <td>0.025800</td>\n",
              "      <td>35.533333</td>\n",
              "      <td>24.833333</td>\n",
              "    </tr>\n",
              "    <tr>\n",
              "      <th>9</th>\n",
              "      <td>1054.100000</td>\n",
              "      <td>21.266667</td>\n",
              "      <td>0.033333</td>\n",
              "      <td>1.646667</td>\n",
              "      <td>62.366667</td>\n",
              "      <td>1125.900000</td>\n",
              "      <td>0.026900</td>\n",
              "      <td>35.866667</td>\n",
              "      <td>24.200000</td>\n",
              "    </tr>\n",
              "    <tr>\n",
              "      <th>10</th>\n",
              "      <td>1153.500000</td>\n",
              "      <td>22.683333</td>\n",
              "      <td>0.033333</td>\n",
              "      <td>1.920000</td>\n",
              "      <td>57.100000</td>\n",
              "      <td>1148.866667</td>\n",
              "      <td>0.029367</td>\n",
              "      <td>35.200000</td>\n",
              "      <td>24.133333</td>\n",
              "    </tr>\n",
              "    <tr>\n",
              "      <th>11</th>\n",
              "      <td>1174.066667</td>\n",
              "      <td>24.110000</td>\n",
              "      <td>0.066667</td>\n",
              "      <td>2.186667</td>\n",
              "      <td>52.366667</td>\n",
              "      <td>1263.033333</td>\n",
              "      <td>0.034067</td>\n",
              "      <td>35.900000</td>\n",
              "      <td>24.233333</td>\n",
              "    </tr>\n",
              "    <tr>\n",
              "      <th>12</th>\n",
              "      <td>1213.200000</td>\n",
              "      <td>25.430000</td>\n",
              "      <td>0.000000</td>\n",
              "      <td>2.636667</td>\n",
              "      <td>47.033333</td>\n",
              "      <td>1338.600000</td>\n",
              "      <td>0.040000</td>\n",
              "      <td>38.733333</td>\n",
              "      <td>24.733333</td>\n",
              "    </tr>\n",
              "    <tr>\n",
              "      <th>13</th>\n",
              "      <td>985.533333</td>\n",
              "      <td>26.630000</td>\n",
              "      <td>0.033333</td>\n",
              "      <td>2.836667</td>\n",
              "      <td>42.766667</td>\n",
              "      <td>1420.933333</td>\n",
              "      <td>0.049276</td>\n",
              "      <td>39.793103</td>\n",
              "      <td>25.733333</td>\n",
              "    </tr>\n",
              "    <tr>\n",
              "      <th>14</th>\n",
              "      <td>851.300000</td>\n",
              "      <td>27.473333</td>\n",
              "      <td>0.033333</td>\n",
              "      <td>2.903333</td>\n",
              "      <td>40.566667</td>\n",
              "      <td>1448.100000</td>\n",
              "      <td>0.058893</td>\n",
              "      <td>40.300000</td>\n",
              "      <td>25.900000</td>\n",
              "    </tr>\n",
              "    <tr>\n",
              "      <th>15</th>\n",
              "      <td>927.400000</td>\n",
              "      <td>28.040000</td>\n",
              "      <td>0.000000</td>\n",
              "      <td>3.140000</td>\n",
              "      <td>38.900000</td>\n",
              "      <td>1501.166667</td>\n",
              "      <td>0.065138</td>\n",
              "      <td>39.607143</td>\n",
              "      <td>25.964286</td>\n",
              "    </tr>\n",
              "    <tr>\n",
              "      <th>16</th>\n",
              "      <td>1031.965517</td>\n",
              "      <td>28.255172</td>\n",
              "      <td>0.000000</td>\n",
              "      <td>3.406897</td>\n",
              "      <td>40.000000</td>\n",
              "      <td>1521.344828</td>\n",
              "      <td>0.067759</td>\n",
              "      <td>40.285714</td>\n",
              "      <td>26.964286</td>\n",
              "    </tr>\n",
              "    <tr>\n",
              "      <th>17</th>\n",
              "      <td>1171.103448</td>\n",
              "      <td>27.848276</td>\n",
              "      <td>0.000000</td>\n",
              "      <td>3.558621</td>\n",
              "      <td>42.689655</td>\n",
              "      <td>1563.551724</td>\n",
              "      <td>0.066759</td>\n",
              "      <td>41.034483</td>\n",
              "      <td>27.931034</td>\n",
              "    </tr>\n",
              "    <tr>\n",
              "      <th>18</th>\n",
              "      <td>961.551724</td>\n",
              "      <td>27.010345</td>\n",
              "      <td>0.137931</td>\n",
              "      <td>3.503448</td>\n",
              "      <td>45.793103</td>\n",
              "      <td>1520.000000</td>\n",
              "      <td>0.061655</td>\n",
              "      <td>40.250000</td>\n",
              "      <td>27.642857</td>\n",
              "    </tr>\n",
              "    <tr>\n",
              "      <th>19</th>\n",
              "      <td>1038.533333</td>\n",
              "      <td>26.110345</td>\n",
              "      <td>0.068966</td>\n",
              "      <td>3.541379</td>\n",
              "      <td>47.689655</td>\n",
              "      <td>1561.758621</td>\n",
              "      <td>0.054207</td>\n",
              "      <td>39.214286</td>\n",
              "      <td>26.071429</td>\n",
              "    </tr>\n",
              "    <tr>\n",
              "      <th>20</th>\n",
              "      <td>1077.633333</td>\n",
              "      <td>24.803333</td>\n",
              "      <td>0.066667</td>\n",
              "      <td>3.406667</td>\n",
              "      <td>50.566667</td>\n",
              "      <td>1656.166667</td>\n",
              "      <td>0.048133</td>\n",
              "      <td>37.100000</td>\n",
              "      <td>24.333333</td>\n",
              "    </tr>\n",
              "    <tr>\n",
              "      <th>21</th>\n",
              "      <td>1102.931034</td>\n",
              "      <td>23.696552</td>\n",
              "      <td>0.068966</td>\n",
              "      <td>3.041379</td>\n",
              "      <td>53.517241</td>\n",
              "      <td>1639.655172</td>\n",
              "      <td>0.041000</td>\n",
              "      <td>37.413793</td>\n",
              "      <td>25.206897</td>\n",
              "    </tr>\n",
              "    <tr>\n",
              "      <th>22</th>\n",
              "      <td>1028.733333</td>\n",
              "      <td>22.523333</td>\n",
              "      <td>0.066667</td>\n",
              "      <td>2.686667</td>\n",
              "      <td>59.700000</td>\n",
              "      <td>1504.100000</td>\n",
              "      <td>0.034767</td>\n",
              "      <td>35.800000</td>\n",
              "      <td>23.966667</td>\n",
              "    </tr>\n",
              "    <tr>\n",
              "      <th>23</th>\n",
              "      <td>974.700000</td>\n",
              "      <td>21.926667</td>\n",
              "      <td>0.066667</td>\n",
              "      <td>2.336667</td>\n",
              "      <td>61.900000</td>\n",
              "      <td>1461.633333</td>\n",
              "      <td>0.032733</td>\n",
              "      <td>35.366667</td>\n",
              "      <td>24.133333</td>\n",
              "    </tr>\n",
              "  </tbody>\n",
              "</table>\n",
              "</div>"
            ],
            "text/plain": [
              "               id  hour_bef_temperature  ...  hour_bef_pm10  hour_bef_pm2.5\n",
              "hour                                     ...                               \n",
              "0      984.700000             21.386667  ...      34.833333       23.200000\n",
              "1     1040.266667             20.986667  ...            NaN             NaN\n",
              "2     1038.733333             20.600000  ...      35.033333       23.600000\n",
              "3     1125.700000             20.203333  ...      34.466667       24.366667\n",
              "4     1147.500000             19.853333  ...      33.800000       23.633333\n",
              "5      954.620690             19.634483  ...      34.172414       24.310345\n",
              "6     1270.633333             19.243333  ...      34.666667       24.133333\n",
              "7      957.466667             19.190000  ...      35.966667       24.933333\n",
              "8     1096.566667             19.846667  ...      35.533333       24.833333\n",
              "9     1054.100000             21.266667  ...      35.866667       24.200000\n",
              "10    1153.500000             22.683333  ...      35.200000       24.133333\n",
              "11    1174.066667             24.110000  ...      35.900000       24.233333\n",
              "12    1213.200000             25.430000  ...      38.733333       24.733333\n",
              "13     985.533333             26.630000  ...      39.793103       25.733333\n",
              "14     851.300000             27.473333  ...      40.300000       25.900000\n",
              "15     927.400000             28.040000  ...      39.607143       25.964286\n",
              "16    1031.965517             28.255172  ...      40.285714       26.964286\n",
              "17    1171.103448             27.848276  ...      41.034483       27.931034\n",
              "18     961.551724             27.010345  ...      40.250000       27.642857\n",
              "19    1038.533333             26.110345  ...      39.214286       26.071429\n",
              "20    1077.633333             24.803333  ...      37.100000       24.333333\n",
              "21    1102.931034             23.696552  ...      37.413793       25.206897\n",
              "22    1028.733333             22.523333  ...      35.800000       23.966667\n",
              "23     974.700000             21.926667  ...      35.366667       24.133333\n",
              "\n",
              "[24 rows x 9 columns]"
            ]
          },
          "metadata": {},
          "execution_count": 86
        }
      ]
    },
    {
      "cell_type": "code",
      "metadata": {
        "id": "JI5MjTyB6Jm0"
      },
      "source": [
        "test['hour_bef_windspeed'].fillna({653:3.541379},inplace=True)"
      ],
      "execution_count": 87,
      "outputs": []
    },
    {
      "cell_type": "markdown",
      "metadata": {
        "id": "cxq37IfKEyGn"
      },
      "source": [
        "변수 선택"
      ]
    },
    {
      "cell_type": "code",
      "metadata": {
        "id": "2UjCTYrNEzj4"
      },
      "source": [
        "features=['hour','hour_bef_temperature','hour_bef_windspeed']"
      ],
      "execution_count": 90,
      "outputs": []
    },
    {
      "cell_type": "code",
      "metadata": {
        "id": "myTR30ljE7IP"
      },
      "source": [
        "X_train = train[features]\n",
        "Y_train = train['count']\n",
        "X_test = test[features]"
      ],
      "execution_count": 91,
      "outputs": []
    },
    {
      "cell_type": "code",
      "metadata": {
        "id": "Fj8hleyUKE2R"
      },
      "source": [
        "model100 =RandomForestRegressor(n_estimators=100, random_state=0)\n",
        "model100_5=RandomForestRegressor(n_estimators=100, max_depth=5, random_state=0)\n",
        "model200 =RandomForestRegressor(n_estimators=200, random_state=0)"
      ],
      "execution_count": 93,
      "outputs": []
    },
    {
      "cell_type": "code",
      "metadata": {
        "colab": {
          "base_uri": "https://localhost:8080/"
        },
        "id": "qQJ7LVe8MVeW",
        "outputId": "743593ac-4c7b-4189-c560-ce8753cc6dec"
      },
      "source": [
        "model100.fit(X_train,Y_train)\n",
        "model100_5.fit(X_train,Y_train)\n",
        "model200.fit(X_train,Y_train)"
      ],
      "execution_count": 95,
      "outputs": [
        {
          "output_type": "execute_result",
          "data": {
            "text/plain": [
              "RandomForestRegressor(bootstrap=True, ccp_alpha=0.0, criterion='mse',\n",
              "                      max_depth=None, max_features='auto', max_leaf_nodes=None,\n",
              "                      max_samples=None, min_impurity_decrease=0.0,\n",
              "                      min_impurity_split=None, min_samples_leaf=1,\n",
              "                      min_samples_split=2, min_weight_fraction_leaf=0.0,\n",
              "                      n_estimators=200, n_jobs=None, oob_score=False,\n",
              "                      random_state=0, verbose=0, warm_start=False)"
            ]
          },
          "metadata": {},
          "execution_count": 95
        }
      ]
    },
    {
      "cell_type": "code",
      "metadata": {
        "id": "IwDw0hMZKLag"
      },
      "source": [
        "yprediction100 = model100.predict(X_test)\n",
        "yprediction100_5 = model100_5.predict(X_test)\n",
        "yprediction200 = model200.predict(X_test)"
      ],
      "execution_count": 96,
      "outputs": []
    },
    {
      "cell_type": "code",
      "metadata": {
        "id": "_QT1EcSiNDhJ"
      },
      "source": [
        "submission['count']=yprediction100\n",
        "submission.to_csv('model100.csv',index=False)"
      ],
      "execution_count": 101,
      "outputs": []
    },
    {
      "cell_type": "code",
      "metadata": {
        "id": "2qJ-jMomNKxW"
      },
      "source": [
        "submission['count']=yprediction100_5\n",
        "submission.to_csv('model100_5.csv',index=False)"
      ],
      "execution_count": 104,
      "outputs": []
    },
    {
      "cell_type": "code",
      "metadata": {
        "id": "-Ot5WyE1NnLb"
      },
      "source": [
        "submission['count']=yprediction200\n",
        "submission.to_csv('model200.csv',index=False)"
      ],
      "execution_count": 102,
      "outputs": []
    },
    {
      "cell_type": "code",
      "metadata": {
        "id": "i1tWOoTDN2Xw"
      },
      "source": [
        ""
      ],
      "execution_count": null,
      "outputs": []
    }
  ]
}